{
 "cells": [
  {
   "cell_type": "code",
   "execution_count": 1,
   "id": "9487ccfb-d81c-4d38-a5b2-1b0adb94d35f",
   "metadata": {},
   "outputs": [
    {
     "name": "stderr",
     "output_type": "stream",
     "text": [
      "/home/gridsan/ssarangerel/.conda/envs/llm-prompting/lib/python3.11/site-packages/tqdm/auto.py:21: TqdmWarning: IProgress not found. Please update jupyter and ipywidgets. See https://ipywidgets.readthedocs.io/en/stable/user_install.html\n",
      "  from .autonotebook import tqdm as notebook_tqdm\n"
     ]
    }
   ],
   "source": [
    "import os\n",
    "import copy\n",
    "import json\n",
    "import bert_score\n",
    "import collections\n",
    "import numpy as np\n",
    "import pandas as pd\n",
    "from tqdm import tqdm\n",
    "\n",
    "import torch\n",
    "from transformers import AutoModelForSeq2SeqLM, AutoModelForCausalLM, AutoTokenizer"
   ]
  },
  {
   "cell_type": "code",
   "execution_count": 6,
   "id": "6d983389-3b29-41b5-8c53-da252d863f8e",
   "metadata": {},
   "outputs": [
    {
     "name": "stderr",
     "output_type": "stream",
     "text": [
      "Loading checkpoint shards: 100%|██████████| 2/2 [00:56<00:00, 28.49s/it]\n"
     ]
    }
   ],
   "source": [
    "path = '/home/gridsan/ssarangerel/nlp/llm-prompting/model_weights'\n",
    "model_checkpoints = {\"flan-t5\" : f'{path}/flan/flan-t5-base',\n",
    "                     \"llama\": f'{path}/shearad_llama/v2_7',\n",
    "                     \"vicuna\": f'{path}/vicuna-7b',\n",
    "                    \"mistral\": f'{path}/mistral'}\n",
    "\n",
    "from transformers import AutoTokenizer, AutoModelForCausalLM\n",
    "\n",
    "CHOSEN_MODEL = \"llama\"\n",
    "\n",
    "TOKENIZER = AutoTokenizer.from_pretrained(model_checkpoints[CHOSEN_MODEL])\n",
    "\n",
    "if CHOSEN_MODEL in [\"flan-t5\"]:\n",
    "    LLM = AutoModelForSeq2SeqLM.from_pretrained(model_checkpoints[CHOSEN_MODEL])\n",
    "elif CHOSEN_MODEL in [\"vicuna\", \"alpaca\", \"mistral\", \"llama\"]:\n",
    "    LLM = AutoModelForCausalLM.from_pretrained(model_checkpoints[CHOSEN_MODEL])\n",
    "else:\n",
    "    raise notImplementedError()\n",
    "\n",
    "# BERT_SCORER = bert_score.BERTScorer(f'{path}/bert/deberta-xlarge-mnli', num_layers = 10) #num_layers ?? \n",
    "# BERT_SCORER\n",
    "\n",
    "#　download sentencepiece and protobuf "
   ]
  },
  {
   "cell_type": "code",
   "execution_count": 7,
   "id": "2b34e28c-8e4f-41b9-9a91-8c2c36aeda8b",
   "metadata": {},
   "outputs": [
    {
     "data": {
      "text/plain": [
       "LlamaForCausalLM(\n",
       "  (model): LlamaModel(\n",
       "    (embed_tokens): Embedding(32000, 2560, padding_idx=0)\n",
       "    (layers): ModuleList(\n",
       "      (0-31): 32 x LlamaDecoderLayer(\n",
       "        (self_attn): LlamaAttention(\n",
       "          (q_proj): Linear(in_features=2560, out_features=2560, bias=False)\n",
       "          (k_proj): Linear(in_features=2560, out_features=2560, bias=False)\n",
       "          (v_proj): Linear(in_features=2560, out_features=2560, bias=False)\n",
       "          (o_proj): Linear(in_features=2560, out_features=2560, bias=False)\n",
       "          (rotary_emb): LlamaRotaryEmbedding()\n",
       "        )\n",
       "        (mlp): LlamaMLP(\n",
       "          (gate_proj): Linear(in_features=2560, out_features=6912, bias=False)\n",
       "          (up_proj): Linear(in_features=2560, out_features=6912, bias=False)\n",
       "          (down_proj): Linear(in_features=6912, out_features=2560, bias=False)\n",
       "          (act_fn): SiLUActivation()\n",
       "        )\n",
       "        (input_layernorm): LlamaRMSNorm()\n",
       "        (post_attention_layernorm): LlamaRMSNorm()\n",
       "      )\n",
       "    )\n",
       "    (norm): LlamaRMSNorm()\n",
       "  )\n",
       "  (lm_head): Linear(in_features=2560, out_features=32000, bias=False)\n",
       ")"
      ]
     },
     "execution_count": 7,
     "metadata": {},
     "output_type": "execute_result"
    }
   ],
   "source": [
    "LLM"
   ]
  }
 ],
 "metadata": {
  "kernelspec": {
   "display_name": "llm-prompting",
   "language": "python",
   "name": "llm-prompting"
  },
  "language_info": {
   "codemirror_mode": {
    "name": "ipython",
    "version": 3
   },
   "file_extension": ".py",
   "mimetype": "text/x-python",
   "name": "python",
   "nbconvert_exporter": "python",
   "pygments_lexer": "ipython3",
   "version": "3.11.5"
  }
 },
 "nbformat": 4,
 "nbformat_minor": 5
}
