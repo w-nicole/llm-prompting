{
 "cells": [
  {
   "cell_type": "code",
   "execution_count": 53,
   "id": "4f14bd69-ee61-44ef-8619-44ad74dce919",
   "metadata": {},
   "outputs": [],
   "source": [
    "import numpy as np\n",
    "import json\n",
    "from sklearn import metrics\n",
    "from sklearn.metrics import auc"
   ]
  },
  {
   "cell_type": "code",
   "execution_count": 157,
   "id": "d5f3354d-0f76-49f0-bd7b-3fd673c310ba",
   "metadata": {},
   "outputs": [],
   "source": [
    "def read_json(path):\n",
    "    with open(path, \"r\", encoding = \"UTF-8\") as f:\n",
    "        data = json.load(f)\n",
    "    return data\n",
    "\n",
    "\n",
    "def aucurve(dataset_json, n):\n",
    "    d = read_json(dataset_json)\n",
    "#     noise = np.random.normal(0, 0.1, len(d))\n",
    "#     for i in range(len(d)):\n",
    "#         d[i]['true_prob'] = max(0, min(1, d[i]['true_prob'] + noise[i]))\n",
    "        \n",
    "    d.sort(key = lambda x: x['true_prob'], reverse=True)\n",
    "\n",
    "    A = []\n",
    "    for c in np.linspace(0, 1, n):\n",
    "        sample = d[:int(c*len(d))]\n",
    "        if not sample: \n",
    "            A.append(0)\n",
    "            continue\n",
    "        A.append(sum([que['pred_correct'] for que in sample])/int(c*len(d)))\n",
    "    \n",
    "    return auc(np.linspace(0, 1, n), A)"
   ]
  },
  {
   "cell_type": "code",
   "execution_count": 158,
   "id": "407facba-f45a-4dcb-a62a-8ba182293f50",
   "metadata": {},
   "outputs": [
    {
     "data": {
      "text/plain": [
       "0.025207072641166"
      ]
     },
     "execution_count": 158,
     "metadata": {},
     "output_type": "execute_result"
    }
   ],
   "source": [
    "aucurve(\"outputs/sciq/flan-t5-small_train_confidence.json\", 120)"
   ]
  }
 ],
 "metadata": {
  "kernelspec": {
   "display_name": "llm-prompting",
   "language": "python",
   "name": "llm-prompting"
  },
  "language_info": {
   "codemirror_mode": {
    "name": "ipython",
    "version": 3
   },
   "file_extension": ".py",
   "mimetype": "text/x-python",
   "name": "python",
   "nbconvert_exporter": "python",
   "pygments_lexer": "ipython3",
   "version": "3.11.5"
  }
 },
 "nbformat": 4,
 "nbformat_minor": 5
}
